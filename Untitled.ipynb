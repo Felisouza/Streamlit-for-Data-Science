{
 "cells": [
  {
   "cell_type": "code",
   "execution_count": 1,
   "id": "a39e4869-f433-4022-8f00-bbf3e6d5623c",
   "metadata": {},
   "outputs": [
    {
     "name": "stdout",
     "output_type": "stream",
     "text": [
      "Collecting streamlit\n",
      "  Downloading streamlit-1.43.2-py2.py3-none-any.whl (9.7 MB)\n",
      "     ---------------------------------------- 9.7/9.7 MB 18.9 MB/s eta 0:00:00\n",
      "Requirement already satisfied: requests<3,>=2.27 in c:\\users\\feh_s\\streamlit-for-data-science\\my_env\\lib\\site-packages (from streamlit) (2.32.3)\n",
      "Collecting click<9,>=7.0\n",
      "  Downloading click-8.1.8-py3-none-any.whl (98 kB)\n",
      "     ---------------------------------------- 98.2/98.2 kB 5.5 MB/s eta 0:00:00\n",
      "Requirement already satisfied: tornado<7,>=6.0.3 in c:\\users\\feh_s\\streamlit-for-data-science\\my_env\\lib\\site-packages (from streamlit) (6.4.2)\n",
      "Collecting watchdog<7,>=2.1.5\n",
      "  Downloading watchdog-6.0.0-py3-none-win_amd64.whl (79 kB)\n",
      "     ---------------------------------------- 79.1/79.1 kB 4.3 MB/s eta 0:00:00\n",
      "Collecting pandas<3,>=1.4.0\n",
      "  Downloading pandas-2.2.3-cp310-cp310-win_amd64.whl (11.6 MB)\n",
      "     --------------------------------------- 11.6/11.6 MB 23.3 MB/s eta 0:00:00\n",
      "Collecting pyarrow>=7.0\n",
      "  Downloading pyarrow-19.0.1-cp310-cp310-win_amd64.whl (25.3 MB)\n",
      "     --------------------------------------- 25.3/25.3 MB 23.4 MB/s eta 0:00:00\n",
      "Collecting blinker<2,>=1.0.0\n",
      "  Downloading blinker-1.9.0-py3-none-any.whl (8.5 kB)\n",
      "Collecting tenacity<10,>=8.1.0\n",
      "  Downloading tenacity-9.0.0-py3-none-any.whl (28 kB)\n",
      "Collecting pydeck<1,>=0.8.0b4\n",
      "  Downloading pydeck-0.9.1-py2.py3-none-any.whl (6.9 MB)\n",
      "     ---------------------------------------- 6.9/6.9 MB 23.2 MB/s eta 0:00:00\n",
      "Collecting toml<2,>=0.10.1\n",
      "  Downloading toml-0.10.2-py2.py3-none-any.whl (16 kB)\n",
      "Requirement already satisfied: packaging<25,>=20 in c:\\users\\feh_s\\streamlit-for-data-science\\my_env\\lib\\site-packages (from streamlit) (24.2)\n",
      "Collecting cachetools<6,>=4.0\n",
      "  Downloading cachetools-5.5.2-py3-none-any.whl (10 kB)\n",
      "Collecting numpy<3,>=1.23\n",
      "  Downloading numpy-2.2.4-cp310-cp310-win_amd64.whl (12.9 MB)\n",
      "     --------------------------------------- 12.9/12.9 MB 31.2 MB/s eta 0:00:00\n",
      "Collecting altair<6,>=4.0\n",
      "  Downloading altair-5.5.0-py3-none-any.whl (731 kB)\n",
      "     ------------------------------------- 731.2/731.2 kB 15.3 MB/s eta 0:00:00\n",
      "Collecting protobuf<6,>=3.20\n",
      "  Downloading protobuf-5.29.4-cp310-abi3-win_amd64.whl (434 kB)\n",
      "     ------------------------------------- 434.5/434.5 kB 28.3 MB/s eta 0:00:00\n",
      "Requirement already satisfied: typing-extensions<5,>=4.4.0 in c:\\users\\feh_s\\streamlit-for-data-science\\my_env\\lib\\site-packages (from streamlit) (4.12.2)\n",
      "Collecting gitpython!=3.1.19,<4,>=3.0.7\n",
      "  Downloading GitPython-3.1.44-py3-none-any.whl (207 kB)\n",
      "     ------------------------------------- 207.6/207.6 kB 12.3 MB/s eta 0:00:00\n",
      "Collecting pillow<12,>=7.1.0\n",
      "  Downloading pillow-11.1.0-cp310-cp310-win_amd64.whl (2.6 MB)\n",
      "     ---------------------------------------- 2.6/2.6 MB 27.8 MB/s eta 0:00:00\n",
      "Requirement already satisfied: jinja2 in c:\\users\\feh_s\\streamlit-for-data-science\\my_env\\lib\\site-packages (from altair<6,>=4.0->streamlit) (3.1.6)\n",
      "Collecting narwhals>=1.14.2\n",
      "  Downloading narwhals-1.32.0-py3-none-any.whl (320 kB)\n",
      "     ------------------------------------- 320.1/320.1 kB 20.7 MB/s eta 0:00:00\n",
      "Requirement already satisfied: jsonschema>=3.0 in c:\\users\\feh_s\\streamlit-for-data-science\\my_env\\lib\\site-packages (from altair<6,>=4.0->streamlit) (4.23.0)\n",
      "Requirement already satisfied: colorama in c:\\users\\feh_s\\streamlit-for-data-science\\my_env\\lib\\site-packages (from click<9,>=7.0->streamlit) (0.4.6)\n",
      "Collecting gitdb<5,>=4.0.1\n",
      "  Downloading gitdb-4.0.12-py3-none-any.whl (62 kB)\n",
      "     ---------------------------------------- 62.8/62.8 kB 3.3 MB/s eta 0:00:00\n",
      "Requirement already satisfied: python-dateutil>=2.8.2 in c:\\users\\feh_s\\streamlit-for-data-science\\my_env\\lib\\site-packages (from pandas<3,>=1.4.0->streamlit) (2.9.0.post0)\n",
      "Collecting pytz>=2020.1\n",
      "  Downloading pytz-2025.2-py2.py3-none-any.whl (509 kB)\n",
      "     ------------------------------------- 509.2/509.2 kB 33.3 MB/s eta 0:00:00\n",
      "Collecting tzdata>=2022.7\n",
      "  Downloading tzdata-2025.2-py2.py3-none-any.whl (347 kB)\n",
      "     ------------------------------------- 347.8/347.8 kB 22.5 MB/s eta 0:00:00\n",
      "Requirement already satisfied: charset-normalizer<4,>=2 in c:\\users\\feh_s\\streamlit-for-data-science\\my_env\\lib\\site-packages (from requests<3,>=2.27->streamlit) (3.4.1)\n",
      "Requirement already satisfied: idna<4,>=2.5 in c:\\users\\feh_s\\streamlit-for-data-science\\my_env\\lib\\site-packages (from requests<3,>=2.27->streamlit) (3.10)\n",
      "Requirement already satisfied: certifi>=2017.4.17 in c:\\users\\feh_s\\streamlit-for-data-science\\my_env\\lib\\site-packages (from requests<3,>=2.27->streamlit) (2025.1.31)\n",
      "Requirement already satisfied: urllib3<3,>=1.21.1 in c:\\users\\feh_s\\streamlit-for-data-science\\my_env\\lib\\site-packages (from requests<3,>=2.27->streamlit) (2.3.0)\n",
      "Collecting smmap<6,>=3.0.1\n",
      "  Downloading smmap-5.0.2-py3-none-any.whl (24 kB)\n",
      "Requirement already satisfied: MarkupSafe>=2.0 in c:\\users\\feh_s\\streamlit-for-data-science\\my_env\\lib\\site-packages (from jinja2->altair<6,>=4.0->streamlit) (3.0.2)\n",
      "Requirement already satisfied: rpds-py>=0.7.1 in c:\\users\\feh_s\\streamlit-for-data-science\\my_env\\lib\\site-packages (from jsonschema>=3.0->altair<6,>=4.0->streamlit) (0.23.1)\n",
      "Requirement already satisfied: referencing>=0.28.4 in c:\\users\\feh_s\\streamlit-for-data-science\\my_env\\lib\\site-packages (from jsonschema>=3.0->altair<6,>=4.0->streamlit) (0.36.2)\n",
      "Requirement already satisfied: attrs>=22.2.0 in c:\\users\\feh_s\\streamlit-for-data-science\\my_env\\lib\\site-packages (from jsonschema>=3.0->altair<6,>=4.0->streamlit) (25.3.0)\n",
      "Requirement already satisfied: jsonschema-specifications>=2023.03.6 in c:\\users\\feh_s\\streamlit-for-data-science\\my_env\\lib\\site-packages (from jsonschema>=3.0->altair<6,>=4.0->streamlit) (2024.10.1)\n",
      "Requirement already satisfied: six>=1.5 in c:\\users\\feh_s\\streamlit-for-data-science\\my_env\\lib\\site-packages (from python-dateutil>=2.8.2->pandas<3,>=1.4.0->streamlit) (1.17.0)\n",
      "Installing collected packages: pytz, watchdog, tzdata, toml, tenacity, smmap, pyarrow, protobuf, pillow, numpy, narwhals, click, cachetools, blinker, pydeck, pandas, gitdb, gitpython, altair, streamlit\n",
      "Successfully installed altair-5.5.0 blinker-1.9.0 cachetools-5.5.2 click-8.1.8 gitdb-4.0.12 gitpython-3.1.44 narwhals-1.32.0 numpy-2.2.4 pandas-2.2.3 pillow-11.1.0 protobuf-5.29.4 pyarrow-19.0.1 pydeck-0.9.1 pytz-2025.2 smmap-5.0.2 streamlit-1.43.2 tenacity-9.0.0 toml-0.10.2 tzdata-2025.2 watchdog-6.0.0\n"
     ]
    },
    {
     "name": "stderr",
     "output_type": "stream",
     "text": [
      "\n",
      "[notice] A new release of pip available: 22.3.1 -> 25.0.1\n",
      "[notice] To update, run: python.exe -m pip install --upgrade pip\n"
     ]
    }
   ],
   "source": [
    "!pip install streamlit"
   ]
  },
  {
   "cell_type": "code",
   "execution_count": 2,
   "id": "45221287-f153-44dd-97dd-960b3dc061e9",
   "metadata": {},
   "outputs": [
    {
     "name": "stdout",
     "output_type": "stream",
     "text": [
      "Requirement already satisfied: pandas in c:\\users\\feh_s\\streamlit-for-data-science\\my_env\\lib\\site-packages (2.2.3)\n",
      "Requirement already satisfied: pytz>=2020.1 in c:\\users\\feh_s\\streamlit-for-data-science\\my_env\\lib\\site-packages (from pandas) (2025.2)\n",
      "Requirement already satisfied: tzdata>=2022.7 in c:\\users\\feh_s\\streamlit-for-data-science\\my_env\\lib\\site-packages (from pandas) (2025.2)\n",
      "Requirement already satisfied: python-dateutil>=2.8.2 in c:\\users\\feh_s\\streamlit-for-data-science\\my_env\\lib\\site-packages (from pandas) (2.9.0.post0)\n",
      "Requirement already satisfied: numpy>=1.22.4 in c:\\users\\feh_s\\streamlit-for-data-science\\my_env\\lib\\site-packages (from pandas) (2.2.4)\n",
      "Requirement already satisfied: six>=1.5 in c:\\users\\feh_s\\streamlit-for-data-science\\my_env\\lib\\site-packages (from python-dateutil>=2.8.2->pandas) (1.17.0)\n"
     ]
    },
    {
     "name": "stderr",
     "output_type": "stream",
     "text": [
      "\n",
      "[notice] A new release of pip available: 22.3.1 -> 25.0.1\n",
      "[notice] To update, run: python.exe -m pip install --upgrade pip\n"
     ]
    }
   ],
   "source": [
    "!pip install pandas"
   ]
  },
  {
   "cell_type": "code",
   "execution_count": 3,
   "id": "52a1f2bb-fbc2-4bd9-ab46-281fde6e2f80",
   "metadata": {},
   "outputs": [
    {
     "name": "stdout",
     "output_type": "stream",
     "text": [
      "Collecting plotly\n",
      "  Downloading plotly-6.0.1-py3-none-any.whl (14.8 MB)\n",
      "     --------------------------------------- 14.8/14.8 MB 18.2 MB/s eta 0:00:00\n",
      "Requirement already satisfied: packaging in c:\\users\\feh_s\\streamlit-for-data-science\\my_env\\lib\\site-packages (from plotly) (24.2)\n",
      "Requirement already satisfied: narwhals>=1.15.1 in c:\\users\\feh_s\\streamlit-for-data-science\\my_env\\lib\\site-packages (from plotly) (1.32.0)\n",
      "Installing collected packages: plotly\n",
      "Successfully installed plotly-6.0.1\n"
     ]
    },
    {
     "name": "stderr",
     "output_type": "stream",
     "text": [
      "\n",
      "[notice] A new release of pip available: 22.3.1 -> 25.0.1\n",
      "[notice] To update, run: python.exe -m pip install --upgrade pip\n"
     ]
    }
   ],
   "source": [
    "!pip install plotly"
   ]
  },
  {
   "cell_type": "code",
   "execution_count": 7,
   "id": "4d348324-27c8-441e-a655-14cd0e917470",
   "metadata": {},
   "outputs": [],
   "source": [
    "!pip freeze > requirements.txt"
   ]
  },
  {
   "cell_type": "code",
   "execution_count": 13,
   "id": "0708a351-259d-4d93-b2d0-b84fab153495",
   "metadata": {},
   "outputs": [
    {
     "name": "stdout",
     "output_type": "stream",
     "text": [
      "^C\n",
      "\n",
      "  You can now view your Streamlit app in your browser.\n",
      "\n",
      "  Local URL: http://localhost:8505\n",
      "  Network URL: http://192.168.0.101:8505\n",
      "\n"
     ]
    }
   ],
   "source": [
    "#!streamlit run plot_demo.py"
   ]
  },
  {
   "cell_type": "code",
   "execution_count": null,
   "id": "75192cba-8aca-4c02-b079-cabcac802179",
   "metadata": {},
   "outputs": [],
   "source": [
    "!streamlit run ./Bancários/formulario.py"
   ]
  },
  {
   "cell_type": "code",
   "execution_count": null,
   "id": "d3459c6b-6d66-4574-8390-2fb70ae857cf",
   "metadata": {},
   "outputs": [],
   "source": []
  }
 ],
 "metadata": {
  "kernelspec": {
   "display_name": "Streamlit-for-data-science",
   "language": "python",
   "name": "my_env"
  },
  "language_info": {
   "codemirror_mode": {
    "name": "ipython",
    "version": 3
   },
   "file_extension": ".py",
   "mimetype": "text/x-python",
   "name": "python",
   "nbconvert_exporter": "python",
   "pygments_lexer": "ipython3",
   "version": "3.10.9"
  }
 },
 "nbformat": 4,
 "nbformat_minor": 5
}
