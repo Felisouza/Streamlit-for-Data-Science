{
 "cells": [
  {
   "cell_type": "code",
   "execution_count": 2,
   "metadata": {},
   "outputs": [
    {
     "name": "stdout",
     "output_type": "stream",
     "text": [
      "Total Felipe: 1980.0 \n",
      "Total Lina: 1472.4399999999998 \n",
      "Total a pagar: 3452.4399999999996\n"
     ]
    }
   ],
   "source": [
    "# Libs\n",
    "import pandas as pd\n",
    "# Leitura dos dados\n",
    "\n",
    "df = pd.read_excel(r'C:\\Users\\feh_s\\Downloads\\Faturas\\Fatura-Excel.xls', engine='xlrd', sheet_name='Planilha2')\n",
    "\n",
    "#Dados filtrados\n",
    "df_filtrado = df.loc[~df['Tipo'].isnull()]\n",
    "\n",
    "# Total a pagar\n",
    "total_pagar = df_filtrado['valor'].sum()\n",
    "\n",
    "# Calcular a soma da categoria 'Divide'\n",
    "soma_divide = df_filtrado.loc[df_filtrado['Tipo'] == 'Divide']['valor'].sum()\n",
    "\n",
    "# Dividir o valor de 'Divide' igualmente entre os dois\n",
    "valor_dividido = soma_divide / 2\n",
    "\n",
    "# Adicionar o valor dividido a cada categoria original\n",
    "total_felipe = df_filtrado.loc[df_filtrado['Tipo'] == 'Felipe']['valor'].sum() + valor_dividido\n",
    "total_lina = df_filtrado.loc[df_filtrado['Tipo'] == 'Lina']['valor'].sum() + valor_dividido\n",
    "\n",
    "# Exibir o resultado\n",
    "print(\n",
    "    f\"Total Felipe: {total_felipe} \\n\"\n",
    "    f\"Total Lina: {total_lina} \\n\"\n",
    "    f\"Total a pagar: {total_pagar}\"\n",
    ")\n"
   ]
  },
  {
   "cell_type": "code",
   "execution_count": null,
   "metadata": {},
   "outputs": [],
   "source": []
  }
 ],
 "metadata": {
  "kernelspec": {
   "display_name": "MBA_kernel",
   "language": "python",
   "name": "mba_kernel"
  },
  "language_info": {
   "codemirror_mode": {
    "name": "ipython",
    "version": 3
   },
   "file_extension": ".py",
   "mimetype": "text/x-python",
   "name": "python",
   "nbconvert_exporter": "python",
   "pygments_lexer": "ipython3",
   "version": "3.10.9"
  }
 },
 "nbformat": 4,
 "nbformat_minor": 2
}
