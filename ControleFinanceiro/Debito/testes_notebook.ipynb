{
 "cells": [
  {
   "cell_type": "code",
   "execution_count": null,
   "id": "fd30f75a",
   "metadata": {},
   "outputs": [],
   "source": [
    "\n",
    "# # Criar uma nova planilha no Google Drive\n",
    "# nome_planilha = \"ControleFinanceiro\"\n",
    "# cliente.create(nome_planilha)"
   ]
  },
  {
   "cell_type": "markdown",
   "id": "3ac16ebe",
   "metadata": {},
   "source": [
    "# Libs"
   ]
  },
  {
   "cell_type": "code",
   "execution_count": 20,
   "id": "0c0b1d01",
   "metadata": {},
   "outputs": [],
   "source": [
    "import gspread\n",
    "import pandas as pd\n",
    "from oauth2client.service_account import ServiceAccountCredentials\n",
    "import datetime"
   ]
  },
  {
   "cell_type": "markdown",
   "id": "3cee6a69",
   "metadata": {},
   "source": [
    "# Leitura do dataset"
   ]
  },
  {
   "cell_type": "code",
   "execution_count": 7,
   "id": "cb47fb76",
   "metadata": {},
   "outputs": [],
   "source": [
    "# Configurar autenticação\n",
    "scope = [\"https://spreadsheets.google.com/feeds\", \"https://www.googleapis.com/auth/drive\"]\n",
    "creds = ServiceAccountCredentials.from_json_keyfile_name(\"..\\TratamentoDados\\credentials.json\", scope)\n",
    "\n",
    "cliente = gspread.authorize(creds)\n",
    "\n",
    "\n",
    "# Abrir a planilha pelo ID\n",
    "SHEET_ID = \"1zgDfVIVOfTDHKvxuOM8eHzQy0keTlKR3EbNabgtuA54\"\n",
    "planilha = cliente.open_by_key(SHEET_ID)\n",
    "\n",
    "# Obter todas as abas (worksheets)\n",
    "abas = planilha.worksheets()\n",
    "\n",
    "\n",
    "# Compartilhar com seu e-mail (substitua pelo seu Gmail!)\n",
    "planilha.share(\"felisouza1991@gmail.com\", perm_type=\"user\", role=\"writer\")\n",
    "\n",
    "# Acessar a primeira aba da planilha\n",
    "sheet = planilha.sheet1\n",
    "\n",
    "\n",
    "# # Abrir a planilha pelo ID\n",
    "# SHEET_ID = \"17Vskb2wVAuu1vvxeYCFYts9ogETjSnLhYolzhhL9zwk\"\n",
    "# planilha = cliente.open_by_key(SHEET_ID)\n",
    "\n",
    "# # Acessar a primeira aba da planilha\n",
    "# sheet = planilha.sheet1\n",
    "\n",
    "# # Ler os dados e converter para Pandas DataFrame\n",
    "# dados = sheet.get_all_records()\n",
    "# df = pd.DataFrame(dados)\n",
    "\n",
    "# # Exibir as primeiras linhas do dataset\n",
    "# print(df.head())"
   ]
  },
  {
   "cell_type": "code",
   "execution_count": 17,
   "id": "42b97038",
   "metadata": {},
   "outputs": [],
   "source": [
    "dadoNovo = {\n",
    "    \"data\":'2'\n",
    "    , \"categoria\":'1'\n",
    "    , \"subcategoria\": '3'\n",
    "    , \"divide\": '4'\n",
    "    , 'ValorCheio':'5'\n",
    "}"
   ]
  },
  {
   "cell_type": "code",
   "execution_count": null,
   "id": "e9b7de41",
   "metadata": {},
   "outputs": [],
   "source": [
    "dadoNovo = [datetime.date(2025, 4, 17), 'moradia', 'internet', 'Sim', '124.42']\n",
    "\n",
    "\n",
    "sheet.append_row(dadoNovo)"
   ]
  },
  {
   "cell_type": "code",
   "execution_count": 23,
   "id": "f23014b0",
   "metadata": {},
   "outputs": [
    {
     "name": "stdout",
     "output_type": "stream",
     "text": [
      "✅ Dados adicionados com sucesso!\n"
     ]
    }
   ],
   "source": [
    "import datetime\n",
    "\n",
    "# Convertendo a data para string antes de adicionar à planilha\n",
    "data_formatada = datetime.date(2025, 4, 17).strftime(\"%Y-%m-%d\")  # Converte para \"2025-04-17\"\n",
    "\n",
    "# Criando os dados formatados corretamente\n",
    "dadoNovo = [data_formatada, 'moradia', 'internet', 'Sim', '124.42']\n",
    "\n",
    "# Adicionando ao Google Sheets\n",
    "sheet.append_row(dadoNovo)\n",
    "\n",
    "print(\"✅ Dados adicionados com sucesso!\")"
   ]
  },
  {
   "cell_type": "code",
   "execution_count": 8,
   "id": "3439bfe3",
   "metadata": {},
   "outputs": [
    {
     "data": {
      "text/html": [
       "<div>\n",
       "<style scoped>\n",
       "    .dataframe tbody tr th:only-of-type {\n",
       "        vertical-align: middle;\n",
       "    }\n",
       "\n",
       "    .dataframe tbody tr th {\n",
       "        vertical-align: top;\n",
       "    }\n",
       "\n",
       "    .dataframe thead th {\n",
       "        text-align: right;\n",
       "    }\n",
       "</style>\n",
       "<table border=\"1\" class=\"dataframe\">\n",
       "  <thead>\n",
       "    <tr style=\"text-align: right;\">\n",
       "      <th></th>\n",
       "      <th>data</th>\n",
       "      <th>categoria</th>\n",
       "      <th>subcategoria</th>\n",
       "      <th>divide</th>\n",
       "      <th>ValorCheio</th>\n",
       "    </tr>\n",
       "  </thead>\n",
       "  <tbody>\n",
       "    <tr>\n",
       "      <th>0</th>\n",
       "      <td>02/04/2025</td>\n",
       "      <td>moradia</td>\n",
       "      <td>luz</td>\n",
       "      <td>1</td>\n",
       "      <td>109</td>\n",
       "    </tr>\n",
       "  </tbody>\n",
       "</table>\n",
       "</div>"
      ],
      "text/plain": [
       "         data categoria subcategoria  divide  ValorCheio\n",
       "0  02/04/2025   moradia          luz       1         109"
      ]
     },
     "execution_count": 8,
     "metadata": {},
     "output_type": "execute_result"
    }
   ],
   "source": [
    "# Ler os dados e converter para Pandas DataFrame\n",
    "sheet = planilha.worksheet(\"Sheet1\")\n",
    "dados = sheet.get_all_records()\n",
    "df = pd.DataFrame(dados)\n",
    "df"
   ]
  },
  {
   "cell_type": "code",
   "execution_count": 9,
   "id": "0b24740a",
   "metadata": {},
   "outputs": [
    {
     "data": {
      "text/plain": [
       "[['data', 'categoria', 'subcategoria', 'divide', 'ValorCheio'],\n",
       " ['02/04/2025', 'moradia', 'luz', '1', '109']]"
      ]
     },
     "execution_count": 9,
     "metadata": {},
     "output_type": "execute_result"
    }
   ],
   "source": [
    "planilha.worksheet(\"Sheet1\").get()"
   ]
  },
  {
   "cell_type": "code",
   "execution_count": 12,
   "id": "a655fd7f",
   "metadata": {},
   "outputs": [],
   "source": [
    "import json\n",
    "\n",
    "# Nome do arquivo JSON\n",
    "categorias = \"categorias\"\n",
    "\n",
    "# Lendo o arquivo JSON\n",
    "with open(categorias, \"r\", encoding=\"utf-8\") as arquivo:\n",
    "    categoriasDict = json.load(arquivo)  # Carrega o conteúdo JSON para um dicionário"
   ]
  },
  {
   "cell_type": "code",
   "execution_count": null,
   "id": "b647c5ae",
   "metadata": {},
   "outputs": [
    {
     "ename": "AttributeError",
     "evalue": "'list' object has no attribute 'values'",
     "output_type": "error",
     "traceback": [
      "\u001b[1;31m---------------------------------------------------------------------------\u001b[0m",
      "\u001b[1;31mAttributeError\u001b[0m                            Traceback (most recent call last)",
      "Cell \u001b[1;32mIn[16], line 1\u001b[0m\n\u001b[1;32m----> 1\u001b[0m \u001b[43mcategoriasDict\u001b[49m\u001b[43m[\u001b[49m\u001b[38;5;124;43m'\u001b[39;49m\u001b[38;5;124;43mmoradia\u001b[39;49m\u001b[38;5;124;43m'\u001b[39;49m\u001b[43m]\u001b[49m\u001b[38;5;241;43m.\u001b[39;49m\u001b[43mvalues\u001b[49m()\n",
      "\u001b[1;31mAttributeError\u001b[0m: 'list' object has no attribute 'values'"
     ]
    }
   ],
   "source": [
    "import gspread\n",
    "import pandas as pd\n",
    "from oauth2client.service_account import ServiceAccountCredentials\n",
    "\n",
    "# Autenticação no Google Sheets\n",
    "scope = [\"https://spreadsheets.google.com/feeds\", \"https://www.googleapis.com/auth/drive\"]\n",
    "creds = ServiceAccountCredentials.from_json_keyfile_name(\"credenciais.json\", scope)\n",
    "cliente = gspread.authorize(creds)\n",
    "\n",
    "# Abrir a planilha pelo ID\n",
    "SHEET_ID = \"17Vskb2wVAuu1vvxeYCFYts9ogETjSnLhYolzhhL9zwk\"\n",
    "planilha = cliente.open_by_key(SHEET_ID)\n",
    "sheet = planilha.sheet1  # Primeira aba da planilha\n",
    "\n",
    "# 🔹 **1. Adicionar uma nova linha ao final**\n",
    "novos_dados = [\"Felipe\", 30, \"São Paulo\"]\n",
    "sheet.append_row(novos_dados)  # Adiciona os dados na última linha disponível\n",
    "\n",
    "# 🔹 **2. Atualizar uma célula específica (Exemplo: Linha 2, Coluna 3)**\n",
    "sheet.update_cell(2, 3, \"Rio de Janeiro\")  # Modifica a célula na linha 2, coluna 3\n",
    "\n",
    "# 🔹 **3. Atualizar um intervalo inteiro**\n",
    "dados_atualizados = [[\"Nome\", \"Idade\", \"Cidade\"], [\"Alice\", 25, \"São Paulo\"], [\"Bob\", 35, \"Porto Alegre\"]]\n",
    "sheet.update(\"A1:C3\", dados_atualizados)  # Modifica um intervalo específico\n",
    "\n",
    "print(\"✅ Atualização concluída!\")"
   ]
  },
  {
   "cell_type": "code",
   "execution_count": 26,
   "id": "b46bcaf5",
   "metadata": {},
   "outputs": [],
   "source": [
    "df = pd.read_csv('./data.txt', sep=';')"
   ]
  },
  {
   "cell_type": "code",
   "execution_count": 34,
   "id": "1854219e",
   "metadata": {},
   "outputs": [],
   "source": [
    "dadoNovo = [datetime.date(2025, 4, 17), 'moradia', 'internet', 'Sim', '124.42']\n",
    "df.loc[len(df)] = dadoNovo"
   ]
  },
  {
   "cell_type": "code",
   "execution_count": 39,
   "id": "efb1cb3d",
   "metadata": {},
   "outputs": [
    {
     "data": {
      "text/plain": [
       "4"
      ]
     },
     "execution_count": 39,
     "metadata": {},
     "output_type": "execute_result"
    }
   ],
   "source": [
    "len(df)"
   ]
  },
  {
   "cell_type": "code",
   "execution_count": 41,
   "id": "d84588db",
   "metadata": {},
   "outputs": [],
   "source": [
    "df.to_csv(\"data.txt\", sep=';')"
   ]
  },
  {
   "cell_type": "code",
   "execution_count": null,
   "id": "f41a659f",
   "metadata": {},
   "outputs": [],
   "source": []
  }
 ],
 "metadata": {
  "kernelspec": {
   "display_name": "Streamlit-for-data-science",
   "language": "python",
   "name": "my_env"
  },
  "language_info": {
   "codemirror_mode": {
    "name": "ipython",
    "version": 3
   },
   "file_extension": ".py",
   "mimetype": "text/x-python",
   "name": "python",
   "nbconvert_exporter": "python",
   "pygments_lexer": "ipython3",
   "version": "3.10.9"
  }
 },
 "nbformat": 4,
 "nbformat_minor": 5
}
