{
 "cells": [
  {
   "cell_type": "markdown",
   "metadata": {},
   "source": [
    "# Bibliotecas"
   ]
  },
  {
   "cell_type": "code",
   "execution_count": null,
   "metadata": {},
   "outputs": [],
   "source": [
    "import pandas as pd\n"
   ]
  },
  {
   "cell_type": "markdown",
   "metadata": {},
   "source": [
    "# Testes"
   ]
  },
  {
   "cell_type": "code",
   "execution_count": 1,
   "metadata": {},
   "outputs": [
    {
     "data": {
      "text/html": [
       "<div>\n",
       "<style scoped>\n",
       "    .dataframe tbody tr th:only-of-type {\n",
       "        vertical-align: middle;\n",
       "    }\n",
       "\n",
       "    .dataframe tbody tr th {\n",
       "        vertical-align: top;\n",
       "    }\n",
       "\n",
       "    .dataframe thead th {\n",
       "        text-align: right;\n",
       "    }\n",
       "</style>\n",
       "<table border=\"1\" class=\"dataframe\">\n",
       "  <thead>\n",
       "    <tr style=\"text-align: right;\">\n",
       "      <th></th>\n",
       "      <th>Nome</th>\n",
       "      <th>Idade</th>\n",
       "      <th>Cidade</th>\n",
       "      <th>Salário</th>\n",
       "    </tr>\n",
       "  </thead>\n",
       "  <tbody>\n",
       "    <tr>\n",
       "      <th>0</th>\n",
       "      <td>Daniela</td>\n",
       "      <td>32</td>\n",
       "      <td>Belo Horizonte</td>\n",
       "      <td>8034</td>\n",
       "    </tr>\n",
       "    <tr>\n",
       "      <th>1</th>\n",
       "      <td>Eduardo</td>\n",
       "      <td>62</td>\n",
       "      <td>Rio de Janeiro</td>\n",
       "      <td>6561</td>\n",
       "    </tr>\n",
       "    <tr>\n",
       "      <th>2</th>\n",
       "      <td>Carlos</td>\n",
       "      <td>18</td>\n",
       "      <td>Porto Alegre</td>\n",
       "      <td>14061</td>\n",
       "    </tr>\n",
       "    <tr>\n",
       "      <th>3</th>\n",
       "      <td>Eduardo</td>\n",
       "      <td>42</td>\n",
       "      <td>Porto Alegre</td>\n",
       "      <td>2762</td>\n",
       "    </tr>\n",
       "    <tr>\n",
       "      <th>4</th>\n",
       "      <td>Eduardo</td>\n",
       "      <td>24</td>\n",
       "      <td>Belo Horizonte</td>\n",
       "      <td>8787</td>\n",
       "    </tr>\n",
       "  </tbody>\n",
       "</table>\n",
       "</div>"
      ],
      "text/plain": [
       "      Nome  Idade          Cidade  Salário\n",
       "0  Daniela     32  Belo Horizonte     8034\n",
       "1  Eduardo     62  Rio de Janeiro     6561\n",
       "2   Carlos     18    Porto Alegre    14061\n",
       "3  Eduardo     42    Porto Alegre     2762\n",
       "4  Eduardo     24  Belo Horizonte     8787"
      ]
     },
     "execution_count": 1,
     "metadata": {},
     "output_type": "execute_result"
    }
   ],
   "source": [
    "import pandas as pd\n",
    "import numpy as np\n",
    "\n",
    "# Definindo número de linhas do dataset\n",
    "num_linhas = 100\n",
    "\n",
    "# Gerando dados fictícios\n",
    "np.random.seed(42)\n",
    "nomes = np.random.choice([\"Alice\", \"Bob\", \"Carlos\", \"Daniela\", \"Eduardo\", \"Fernanda\"], num_linhas)\n",
    "idades = np.random.randint(18, 65, num_linhas)\n",
    "cidades = np.random.choice([\"São Paulo\", \"Rio de Janeiro\", \"Belo Horizonte\", \"Porto Alegre\"], num_linhas)\n",
    "salarios = np.random.randint(2500, 15000, num_linhas)\n",
    "\n",
    "# Criando o DataFrame\n",
    "df_falso = pd.DataFrame({\n",
    "    \"Nome\": nomes,\n",
    "    \"Idade\": idades,\n",
    "    \"Cidade\": cidades,\n",
    "    \"Salário\": salarios\n",
    "})\n",
    "\n",
    "# Mostrando as primeiras linhas do dataset\n",
    "df_falso.head()"
   ]
  },
  {
   "cell_type": "code",
   "execution_count": 12,
   "metadata": {},
   "outputs": [
    {
     "name": "stdout",
     "output_type": "stream",
     "text": [
      "✅ Dataset salvo no Google Cloud: gs://controlefinanceirofelipe/dataset_falso.csv\n"
     ]
    }
   ],
   "source": [
    "import pandas as pd\n",
    "import numpy as np\n",
    "from google.cloud import storage\n",
    "\n",
    "# Nome do bucket no Google Cloud\n",
    "BUCKET_NAME = \"controlefinanceirofelipe\"\n",
    "\n",
    "# Nome do arquivo a ser salvo\n",
    "FILE_NAME = \"dataset_falso.csv\"\n",
    "\n",
    "# Criando um dataset falso\n",
    "num_linhas = 100\n",
    "np.random.seed(42)\n",
    "nomes = np.random.choice([\"Alice\", \"Bob\", \"Carlos\", \"Daniela\", \"Eduardo\", \"Fernanda\"], num_linhas)\n",
    "idades = np.random.randint(18, 65, num_linhas)\n",
    "cidades = np.random.choice([\"São Paulo\", \"Rio de Janeiro\", \"Belo Horizonte\", \"Porto Alegre\"], num_linhas)\n",
    "salarios = np.random.randint(2500, 15000, num_linhas)\n",
    "\n",
    "# Criando DataFrame\n",
    "df_falso = pd.DataFrame({\n",
    "    \"Nome\": nomes,\n",
    "    \"Idade\": idades,\n",
    "    \"Cidade\": cidades,\n",
    "    \"Salário\": salarios\n",
    "})\n",
    "\n",
    "# Salvando dataset localmente\n",
    "df_falso.to_csv(FILE_NAME, index=False)\n",
    "\n",
    "# Função para salvar no Google Cloud Storage\n",
    "def upload_to_gcloud(file_name, bucket_name):\n",
    "    # Autenticando com credenciais JSON\n",
    "    client = storage.Client.from_service_account_json(\"../credentials.json\")\n",
    "    bucket = client.bucket(bucket_name)\n",
    "    \n",
    "    # Criando um novo objeto no Cloud Storage\n",
    "    blob = bucket.blob(file_name)\n",
    "    blob.upload_from_filename(file_name)\n",
    "    \n",
    "    print(f\"✅ Dataset salvo no Google Cloud: gs://{bucket_name}/{file_name}\")\n",
    "\n",
    "# Enviando para o Google Cloud\n",
    "upload_to_gcloud(FILE_NAME, BUCKET_NAME)"
   ]
  },
  {
   "cell_type": "code",
   "execution_count": 16,
   "metadata": {},
   "outputs": [
    {
     "name": "stdout",
     "output_type": "stream",
     "text": [
      "      Nome  Idade          Cidade  Salário\n",
      "0  Daniela     32  Belo Horizonte     8034\n",
      "1  Eduardo     62  Rio de Janeiro     6561\n",
      "2   Carlos     18    Porto Alegre    14061\n",
      "3  Eduardo     42    Porto Alegre     2762\n",
      "4  Eduardo     24  Belo Horizonte     8787\n"
     ]
    }
   ],
   "source": [
    "import pandas as pd\n",
    "from google.cloud import storage\n",
    "\n",
    "# Nome do bucket no Google Cloud\n",
    "BUCKET_NAME = \"controlefinanceirofelipe\"\n",
    "\n",
    "# Nome do arquivo a ser salvo\n",
    "FILE_NAME = \"dataset_falso.csv\"\n",
    "\n",
    "# Autenticar no Google Cloud usando credenciais\n",
    "client = storage.Client.from_service_account_json(\"../credentials.json\")\n",
    "bucket = client.bucket(BUCKET_NAME)\n",
    "\n",
    "# Baixar o arquivo e ler com Pandas\n",
    "blob = bucket.blob(FILE_NAME)\n",
    "blob.download_to_filename(FILE_NAME)\n",
    "\n",
    "df = pd.read_csv(FILE_NAME)\n",
    "\n",
    "# Exibir os dados\n",
    "print(df.head())"
   ]
  },
  {
   "cell_type": "markdown",
   "metadata": {},
   "source": [
    "## Google drive"
   ]
  },
  {
   "cell_type": "code",
   "execution_count": 19,
   "metadata": {},
   "outputs": [
    {
     "name": "stdout",
     "output_type": "stream",
     "text": [
      "✅ Dataset salvo no Google Drive com sucesso!\n"
     ]
    }
   ],
   "source": [
    "import pandas as pd\n",
    "import numpy as np\n",
    "import gspread\n",
    "from oauth2client.service_account import ServiceAccountCredentials\n",
    "\n",
    "# Definir escopo de acesso ao Google Sheets\n",
    "scope = [\"https://spreadsheets.google.com/feeds\", \"https://www.googleapis.com/auth/drive\"]\n",
    "\n",
    "# Autenticação com credenciais JSON\n",
    "creds = ServiceAccountCredentials.from_json_keyfile_name(r\"../credentials.json\", scope)\n",
    "cliente = gspread.authorize(creds)\n",
    "\n",
    "# Criar uma nova planilha no Google Drive\n",
    "nome_planilha = \"Dataset_Falso\"\n",
    "planilha = cliente.create(nome_planilha)\n",
    "\n",
    "# Compartilhar com seu e-mail (substitua pelo seu Gmail!)\n",
    "planilha.share(\"felisouza1991@gmail.com\", perm_type=\"user\", role=\"writer\")\n",
    "\n",
    "# Acessar a primeira aba da planilha\n",
    "sheet = planilha.sheet1\n",
    "\n",
    "# Criando um dataset falso\n",
    "num_linhas = 100\n",
    "np.random.seed(42)\n",
    "nomes = np.random.choice([\"Alice\", \"Bob\", \"Carlos\", \"Daniela\", \"Eduardo\", \"Fernanda\"], num_linhas)\n",
    "idades = np.random.randint(18, 65, num_linhas)\n",
    "cidades = np.random.choice([\"São Paulo\", \"Rio de Janeiro\", \"Belo Horizonte\", \"Porto Alegre\"], num_linhas)\n",
    "salarios = np.random.randint(2500, 15000, num_linhas)\n",
    "\n",
    "# Criando DataFrame\n",
    "df_falso = pd.DataFrame({\n",
    "    \"Nome\": nomes,\n",
    "    \"Idade\": idades,\n",
    "    \"Cidade\": cidades,\n",
    "    \"Salário\": salarios\n",
    "})\n",
    "\n",
    "# Convertendo DataFrame em lista para o Google Sheets\n",
    "dados = [df_falso.columns.tolist()] + df_falso.values.tolist()\n",
    "\n",
    "# Gravando na planilha\n",
    "sheet.update(dados)\n",
    "\n",
    "print(\"✅ Dataset salvo no Google Drive com sucesso!\")"
   ]
  }
 ],
 "metadata": {
  "kernelspec": {
   "display_name": "Streamlit-for-data-science",
   "language": "python",
   "name": "my_env"
  },
  "language_info": {
   "codemirror_mode": {
    "name": "ipython",
    "version": 3
   },
   "file_extension": ".py",
   "mimetype": "text/x-python",
   "name": "python",
   "nbconvert_exporter": "python",
   "pygments_lexer": "ipython3",
   "version": "3.10.9"
  }
 },
 "nbformat": 4,
 "nbformat_minor": 2
}
