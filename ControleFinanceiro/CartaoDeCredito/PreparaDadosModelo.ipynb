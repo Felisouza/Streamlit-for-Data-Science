{
 "cells": [
  {
   "metadata": {},
   "cell_type": "markdown",
   "source": "# Libs",
   "id": "9282dc40b694c65d"
  },
  {
   "cell_type": "code",
   "id": "initial_id",
   "metadata": {
    "collapsed": true,
    "ExecuteTime": {
     "end_time": "2025-07-09T22:08:12.777923Z",
     "start_time": "2025-07-09T22:08:12.766853Z"
    }
   },
   "source": [
    "import pandas as pd\n",
    "import numpy as np\n",
    "import matplotlib.pyplot as plt\n",
    "import os\n",
    "import sys\n",
    "import os\n",
    "import os\n",
    "import pandas as pd\n",
    "import re\n",
    "\n",
    "from ControleFinanceiro.Debito.testes_notebook import sheet"
   ],
   "outputs": [],
   "execution_count": 7
  },
  {
   "metadata": {
    "ExecuteTime": {
     "end_time": "2025-07-09T22:08:53.245297Z",
     "start_time": "2025-07-09T22:08:52.660981Z"
    }
   },
   "cell_type": "code",
   "source": "from LimpaDados import *",
   "id": "b6e0063e9257a240",
   "outputs": [],
   "execution_count": 9
  },
  {
   "metadata": {},
   "cell_type": "markdown",
   "source": "# Leitura de todas as bases",
   "id": "d6bde45fa38a0c2e"
  },
  {
   "metadata": {
    "ExecuteTime": {
     "end_time": "2025-07-09T22:46:45.295286Z",
     "start_time": "2025-07-09T22:46:45.197477Z"
    }
   },
   "cell_type": "code",
   "source": [
    "# Caminho da pasta\n",
    "caminho_pasta = r'C:\\Users\\feh_s\\Desktop\\Faturas\\2025'\n",
    "\n",
    "# Lista os arquivos na pasta\n",
    "arquivos = [f for f in os.listdir(caminho_pasta) if os.path.isfile(os.path.join(caminho_pasta, f))]\n",
    "\n",
    "# Lista para armazenar os DataFrames\n",
    "lista_df = []\n",
    "\n",
    "# Loop nos arquivos\n",
    "for arquivo in arquivos:\n",
    "    caminho_arquivo = os.path.join(caminho_pasta, arquivo)\n",
    "\n",
    "    try:\n",
    "        df = pd.read_excel(caminho_arquivo, sheet_name='Lançamentos')\n",
    "        df = LimpaDados(df)\n",
    "\n",
    "        # Extrai numerais (ex: 202504) do nome do arquivo\n",
    "        data_str = re.search(r'\\d+', arquivo).group()\n",
    "\n",
    "        # Cria nova coluna 'DataDaFatura'\n",
    "        df['DataDaFatura'] = pd.to_datetime(data_str, format='%Y%m').strftime('%Y-%m')\n",
    "\n",
    "        lista_df.append(df)\n",
    "        print(f\"✅ Fatura adicionada: {arquivo} → Data: {data_str}\")\n",
    "\n",
    "    except Exception as e:\n",
    "        print(f\"❌ Erro ao processar {arquivo}: {e}\")\n",
    "\n",
    "# Concatena todos os DataFrames em um único\n",
    "if lista_df:\n",
    "    df_final = pd.concat(lista_df, ignore_index=True)\n",
    "    print(\"📊 Base final criada com sucesso!\")\n",
    "    print(df_final.head())\n",
    "else:\n",
    "    print(\"⚠️ Nenhum arquivo foi carregado com sucesso.\")"
   ],
   "id": "e2c342b45b7ffcba",
   "outputs": [
    {
     "name": "stdout",
     "output_type": "stream",
     "text": [
      "✅ Fatura adicionada: Fatura-Excel-202502.xls → Data: 202502\n",
      "✅ Fatura adicionada: Fatura-Excel-202503.xls → Data: 202503\n",
      "✅ Fatura adicionada: Fatura-Excel-202504.xls → Data: 202504\n",
      "✅ Fatura adicionada: Fatura-Excel-202505.xls → Data: 202505\n",
      "✅ Fatura adicionada: Fatura-Excel-202506.xls → Data: 202506\n",
      "📊 Base final criada com sucesso!\n",
      "         Data                NmGasto  Valor DataDaFatura\n",
      "0  10/02/2025               Dm*udemy   24.9      2025-02\n",
      "1  01/02/2025             Google One   79.9      2025-02\n",
      "2  02/02/2025   Google Myworkoutplan  16.99      2025-02\n",
      "3  16/02/2025  Google 365scores Live   7.97      2025-02\n",
      "4  13/01/2025     Amazon Marketplace  86.98      2025-02\n"
     ]
    }
   ],
   "execution_count": 51
  },
  {
   "metadata": {
    "ExecuteTime": {
     "end_time": "2025-07-09T22:55:53.341173Z",
     "start_time": "2025-07-09T22:55:53.322841Z"
    }
   },
   "cell_type": "code",
   "source": "df_final['Valor'] = df_final['Valor'].astype('float')",
   "id": "cc9c2a58d68ac82c",
   "outputs": [
    {
     "name": "stdout",
     "output_type": "stream",
     "text": [
      "<class 'pandas.core.frame.DataFrame'>\n",
      "RangeIndex: 156 entries, 0 to 155\n",
      "Data columns (total 4 columns):\n",
      " #   Column        Non-Null Count  Dtype  \n",
      "---  ------        --------------  -----  \n",
      " 0   Data          156 non-null    object \n",
      " 1   NmGasto       156 non-null    object \n",
      " 2   Valor         156 non-null    float64\n",
      " 3   DataDaFatura  156 non-null    object \n",
      "dtypes: float64(1), object(3)\n",
      "memory usage: 5.0+ KB\n"
     ]
    }
   ],
   "execution_count": 53
  },
  {
   "metadata": {
    "ExecuteTime": {
     "end_time": "2025-07-09T22:59:25.129952Z",
     "start_time": "2025-07-09T22:59:25.115730Z"
    }
   },
   "cell_type": "code",
   "source": "df_final.to_csv(caminho_pasta + 'faturas', index=False)",
   "id": "9a65d52005762e17",
   "outputs": [],
   "execution_count": 56
  }
 ],
 "metadata": {
  "kernelspec": {
   "display_name": "Python 3",
   "language": "python",
   "name": "python3"
  },
  "language_info": {
   "codemirror_mode": {
    "name": "ipython",
    "version": 2
   },
   "file_extension": ".py",
   "mimetype": "text/x-python",
   "name": "python",
   "nbconvert_exporter": "python",
   "pygments_lexer": "ipython2",
   "version": "2.7.6"
  }
 },
 "nbformat": 4,
 "nbformat_minor": 5
}
