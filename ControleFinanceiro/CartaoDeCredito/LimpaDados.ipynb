{
 "cells": [
  {
   "cell_type": "markdown",
   "id": "02ebdeb8",
   "metadata": {},
   "source": [
    "# Libs"
   ]
  },
  {
   "cell_type": "code",
   "id": "9968893a",
   "metadata": {
    "ExecuteTime": {
     "end_time": "2025-07-12T21:57:29.953754Z",
     "start_time": "2025-07-12T21:57:29.941660Z"
    }
   },
   "source": [
    "import pandas as pd\n",
    "import streamlit as st\n",
    "import pandas as pd\n",
    "import re\n"
   ],
   "outputs": [],
   "execution_count": 23
  },
  {
   "cell_type": "markdown",
   "id": "b940e7e1",
   "metadata": {},
   "source": [
    "# Leitura da base crua"
   ]
  },
  {
   "cell_type": "code",
   "id": "44413c92",
   "metadata": {
    "ExecuteTime": {
     "end_time": "2025-07-12T22:04:13.492297Z",
     "start_time": "2025-07-12T22:04:13.435860Z"
    }
   },
   "source": [
    "# Carregar arquivo Excel\n",
    "# arquivo = \"./Fatura-Excel.xls\"  # Substitua pelo nome do seu arquivo\n",
    "arquivo = r\"C:\\Users\\feh_s\\Desktop\\Faturas\\2025\\Fatura-Excel-202506.xls\"  # Substitua pelo nome do seu arquivo\n",
    "\n",
    "df = pd.read_excel(\n",
    "    arquivo\n",
    "    # , engine='openpyxl'\n",
    ")\n",
    "df.head()"
   ],
   "outputs": [
    {
     "data": {
      "text/plain": [
       "  Logotipo Itaú               Unnamed: 1 Unnamed: 2 Unnamed: 3\n",
       "0  Atualização:   12/07/2025 às 19:03:21        NaN        NaN\n",
       "1         Nome:  FELIPE BATISTA DE SOUZA        NaN        NaN\n",
       "2      Agência:                     6369        NaN        NaN\n",
       "3        Conta:                  28614-8        NaN        NaN\n",
       "4           NaN                      NaN        NaN        NaN"
      ],
      "text/html": [
       "<div>\n",
       "<style scoped>\n",
       "    .dataframe tbody tr th:only-of-type {\n",
       "        vertical-align: middle;\n",
       "    }\n",
       "\n",
       "    .dataframe tbody tr th {\n",
       "        vertical-align: top;\n",
       "    }\n",
       "\n",
       "    .dataframe thead th {\n",
       "        text-align: right;\n",
       "    }\n",
       "</style>\n",
       "<table border=\"1\" class=\"dataframe\">\n",
       "  <thead>\n",
       "    <tr style=\"text-align: right;\">\n",
       "      <th></th>\n",
       "      <th>Logotipo Itaú</th>\n",
       "      <th>Unnamed: 1</th>\n",
       "      <th>Unnamed: 2</th>\n",
       "      <th>Unnamed: 3</th>\n",
       "    </tr>\n",
       "  </thead>\n",
       "  <tbody>\n",
       "    <tr>\n",
       "      <th>0</th>\n",
       "      <td>Atualização:</td>\n",
       "      <td>12/07/2025 às 19:03:21</td>\n",
       "      <td>NaN</td>\n",
       "      <td>NaN</td>\n",
       "    </tr>\n",
       "    <tr>\n",
       "      <th>1</th>\n",
       "      <td>Nome:</td>\n",
       "      <td>FELIPE BATISTA DE SOUZA</td>\n",
       "      <td>NaN</td>\n",
       "      <td>NaN</td>\n",
       "    </tr>\n",
       "    <tr>\n",
       "      <th>2</th>\n",
       "      <td>Agência:</td>\n",
       "      <td>6369</td>\n",
       "      <td>NaN</td>\n",
       "      <td>NaN</td>\n",
       "    </tr>\n",
       "    <tr>\n",
       "      <th>3</th>\n",
       "      <td>Conta:</td>\n",
       "      <td>28614-8</td>\n",
       "      <td>NaN</td>\n",
       "      <td>NaN</td>\n",
       "    </tr>\n",
       "    <tr>\n",
       "      <th>4</th>\n",
       "      <td>NaN</td>\n",
       "      <td>NaN</td>\n",
       "      <td>NaN</td>\n",
       "      <td>NaN</td>\n",
       "    </tr>\n",
       "  </tbody>\n",
       "</table>\n",
       "</div>"
      ]
     },
     "execution_count": 26,
     "metadata": {},
     "output_type": "execute_result"
    }
   ],
   "execution_count": 26
  },
  {
   "metadata": {},
   "cell_type": "markdown",
   "source": "# Função completa",
   "id": "a20ec0612c0dbd0c"
  },
  {
   "metadata": {
    "ExecuteTime": {
     "end_time": "2025-07-09T15:20:53.620239Z",
     "start_time": "2025-07-09T15:20:53.608611Z"
    }
   },
   "cell_type": "code",
   "source": [
    "#!/usr/bin/env python\n",
    "# coding: utf-8\n",
    "\n",
    "# # Libs\n",
    "import pandas as pd\n",
    "import streamlit as st\n",
    "import re\n",
    "\n",
    "# Função REGEX\n",
    "def limparNmGasto(col):\n",
    "    # Se terminar com caracteres não alfabéticos, remove-os do final\n",
    "    return re.sub(r'[^a-zA-ZÀ-ÿ\\s]+$', '', col)\n",
    "\n",
    "#Função principal de limpeza dos dados\n",
    "def LimpaDados(df):\n",
    "        df.drop(columns='Unnamed: 2', inplace=True)\n",
    "\n",
    "\n",
    "\n",
    "\n",
    "        # ## Renomeia colunas\n",
    "        NomesColunas = {\n",
    "            0:'Data'\n",
    "            , 1: 'NmGasto'\n",
    "            , 2: 'Valor'\n",
    "        }\n",
    "\n",
    "        df.columns = [NomesColunas[i] if i in NomesColunas else df.columns[i] for i in range(len(df.columns))]\n",
    "        df.head()\n",
    "\n",
    "\n",
    "        # ## Retirando NaN\n",
    "        df_SemNulo = df[(~df['Valor'].isnull()) & (~df['Data'].isnull())].reset_index(drop=True)\n",
    "\n",
    "        df_SemNulo[df_SemNulo['Valor'].isnull()]\n",
    "\n",
    "        # ## Selecionando os valores verdadeiros\n",
    "\n",
    "        # ## Limpa data\n",
    "\n",
    "        # Expressão regular para encontrar datas no formato dd/mm/yyyy\n",
    "        padrao_data = r\"^\\d{2}/\\d{2}/\\d{4}$\"\n",
    "\n",
    "        # Filtrar linhas com datas no formato certo\n",
    "        filtro = df_SemNulo[\"Data\"].astype(str).str.match(padrao_data)\n",
    "        df_Union = df_SemNulo[filtro].reset_index(drop=True)\n",
    "\n",
    "        # Aplica a função à coluna\n",
    "        df_Union['NmGasto'] = df_Union['NmGasto'].apply(limparNmGasto)\n",
    "\n",
    "\n",
    "        return df_Union"
   ],
   "id": "d57e399980e92830",
   "outputs": [],
   "execution_count": 21
  },
  {
   "metadata": {
    "ExecuteTime": {
     "end_time": "2025-07-09T15:20:59.625692Z",
     "start_time": "2025-07-09T15:20:59.609691Z"
    }
   },
   "cell_type": "code",
   "source": [
    "df_limpo = LimpaDados(df)\n",
    "df_limpo"
   ],
   "id": "5733684fa025d1f2",
   "outputs": [
    {
     "data": {
      "text/plain": [
       "          Data                 NmGasto   Valor\n",
       "0   10/02/2025                Dm*udemy    24.9\n",
       "1   01/02/2025              Google One    79.9\n",
       "2   02/02/2025    Google Myworkoutplan   16.99\n",
       "3   16/02/2025   Google 365scores Live    7.97\n",
       "4   13/01/2025      Amazon Marketplace   86.98\n",
       "5   13/01/2025      Amazon Marketplace   -0.02\n",
       "6   27/01/2025  Ifd*esquina Grill E Pi      77\n",
       "7   28/01/2025      Shopee *aopharmace  192.46\n",
       "8   29/01/2025      Amazon Marketplace  169.81\n",
       "9   31/01/2025                    Petz  273.67\n",
       "10  01/02/2025          Mp *aliexpress   163.9\n",
       "11  01/02/2025  Ifd*mimic Fornecimento   60.99\n",
       "12  04/02/2025      Msaquecedores          560\n",
       "13  06/02/2025              Dm*spotify    27.9\n",
       "14  06/02/2025             Disney Plus    62.9\n",
       "15  06/02/2025      Rdsaude Online      178.87\n",
       "16  08/02/2025      99app       *99app   29.57\n",
       "17  09/02/2025      99app       *99app   36.54\n",
       "18  09/02/2025      99app       *99app      32\n",
       "19  09/02/2025      99app       *99app    51.6\n",
       "20  09/02/2025   Ifood  *ifd*heranca C  129.61\n",
       "21  11/02/2025      Pg *nuvem Bixocafe  104.88\n",
       "22  12/02/2025         Pet Supremo -ct     159\n",
       "23  13/02/2025  Evoqueacademiaavriobra   149.9\n",
       "24  15/02/2025   Comercial De-ct Os Sp   20.25\n",
       "25  15/02/2025  Armazem Santa Filomena  334.16\n",
       "26  17/02/2025         Pb*um Coffee Co   95.18\n",
       "27  22/02/2025   Ifood  *ifd*pedro Tom  127.99\n",
       "28  23/02/2025       Google Scribd Inc   27.99"
      ],
      "text/html": [
       "<div>\n",
       "<style scoped>\n",
       "    .dataframe tbody tr th:only-of-type {\n",
       "        vertical-align: middle;\n",
       "    }\n",
       "\n",
       "    .dataframe tbody tr th {\n",
       "        vertical-align: top;\n",
       "    }\n",
       "\n",
       "    .dataframe thead th {\n",
       "        text-align: right;\n",
       "    }\n",
       "</style>\n",
       "<table border=\"1\" class=\"dataframe\">\n",
       "  <thead>\n",
       "    <tr style=\"text-align: right;\">\n",
       "      <th></th>\n",
       "      <th>Data</th>\n",
       "      <th>NmGasto</th>\n",
       "      <th>Valor</th>\n",
       "    </tr>\n",
       "  </thead>\n",
       "  <tbody>\n",
       "    <tr>\n",
       "      <th>0</th>\n",
       "      <td>10/02/2025</td>\n",
       "      <td>Dm*udemy</td>\n",
       "      <td>24.9</td>\n",
       "    </tr>\n",
       "    <tr>\n",
       "      <th>1</th>\n",
       "      <td>01/02/2025</td>\n",
       "      <td>Google One</td>\n",
       "      <td>79.9</td>\n",
       "    </tr>\n",
       "    <tr>\n",
       "      <th>2</th>\n",
       "      <td>02/02/2025</td>\n",
       "      <td>Google Myworkoutplan</td>\n",
       "      <td>16.99</td>\n",
       "    </tr>\n",
       "    <tr>\n",
       "      <th>3</th>\n",
       "      <td>16/02/2025</td>\n",
       "      <td>Google 365scores Live</td>\n",
       "      <td>7.97</td>\n",
       "    </tr>\n",
       "    <tr>\n",
       "      <th>4</th>\n",
       "      <td>13/01/2025</td>\n",
       "      <td>Amazon Marketplace</td>\n",
       "      <td>86.98</td>\n",
       "    </tr>\n",
       "    <tr>\n",
       "      <th>5</th>\n",
       "      <td>13/01/2025</td>\n",
       "      <td>Amazon Marketplace</td>\n",
       "      <td>-0.02</td>\n",
       "    </tr>\n",
       "    <tr>\n",
       "      <th>6</th>\n",
       "      <td>27/01/2025</td>\n",
       "      <td>Ifd*esquina Grill E Pi</td>\n",
       "      <td>77</td>\n",
       "    </tr>\n",
       "    <tr>\n",
       "      <th>7</th>\n",
       "      <td>28/01/2025</td>\n",
       "      <td>Shopee *aopharmace</td>\n",
       "      <td>192.46</td>\n",
       "    </tr>\n",
       "    <tr>\n",
       "      <th>8</th>\n",
       "      <td>29/01/2025</td>\n",
       "      <td>Amazon Marketplace</td>\n",
       "      <td>169.81</td>\n",
       "    </tr>\n",
       "    <tr>\n",
       "      <th>9</th>\n",
       "      <td>31/01/2025</td>\n",
       "      <td>Petz</td>\n",
       "      <td>273.67</td>\n",
       "    </tr>\n",
       "    <tr>\n",
       "      <th>10</th>\n",
       "      <td>01/02/2025</td>\n",
       "      <td>Mp *aliexpress</td>\n",
       "      <td>163.9</td>\n",
       "    </tr>\n",
       "    <tr>\n",
       "      <th>11</th>\n",
       "      <td>01/02/2025</td>\n",
       "      <td>Ifd*mimic Fornecimento</td>\n",
       "      <td>60.99</td>\n",
       "    </tr>\n",
       "    <tr>\n",
       "      <th>12</th>\n",
       "      <td>04/02/2025</td>\n",
       "      <td>Msaquecedores</td>\n",
       "      <td>560</td>\n",
       "    </tr>\n",
       "    <tr>\n",
       "      <th>13</th>\n",
       "      <td>06/02/2025</td>\n",
       "      <td>Dm*spotify</td>\n",
       "      <td>27.9</td>\n",
       "    </tr>\n",
       "    <tr>\n",
       "      <th>14</th>\n",
       "      <td>06/02/2025</td>\n",
       "      <td>Disney Plus</td>\n",
       "      <td>62.9</td>\n",
       "    </tr>\n",
       "    <tr>\n",
       "      <th>15</th>\n",
       "      <td>06/02/2025</td>\n",
       "      <td>Rdsaude Online</td>\n",
       "      <td>178.87</td>\n",
       "    </tr>\n",
       "    <tr>\n",
       "      <th>16</th>\n",
       "      <td>08/02/2025</td>\n",
       "      <td>99app       *99app</td>\n",
       "      <td>29.57</td>\n",
       "    </tr>\n",
       "    <tr>\n",
       "      <th>17</th>\n",
       "      <td>09/02/2025</td>\n",
       "      <td>99app       *99app</td>\n",
       "      <td>36.54</td>\n",
       "    </tr>\n",
       "    <tr>\n",
       "      <th>18</th>\n",
       "      <td>09/02/2025</td>\n",
       "      <td>99app       *99app</td>\n",
       "      <td>32</td>\n",
       "    </tr>\n",
       "    <tr>\n",
       "      <th>19</th>\n",
       "      <td>09/02/2025</td>\n",
       "      <td>99app       *99app</td>\n",
       "      <td>51.6</td>\n",
       "    </tr>\n",
       "    <tr>\n",
       "      <th>20</th>\n",
       "      <td>09/02/2025</td>\n",
       "      <td>Ifood  *ifd*heranca C</td>\n",
       "      <td>129.61</td>\n",
       "    </tr>\n",
       "    <tr>\n",
       "      <th>21</th>\n",
       "      <td>11/02/2025</td>\n",
       "      <td>Pg *nuvem Bixocafe</td>\n",
       "      <td>104.88</td>\n",
       "    </tr>\n",
       "    <tr>\n",
       "      <th>22</th>\n",
       "      <td>12/02/2025</td>\n",
       "      <td>Pet Supremo -ct</td>\n",
       "      <td>159</td>\n",
       "    </tr>\n",
       "    <tr>\n",
       "      <th>23</th>\n",
       "      <td>13/02/2025</td>\n",
       "      <td>Evoqueacademiaavriobra</td>\n",
       "      <td>149.9</td>\n",
       "    </tr>\n",
       "    <tr>\n",
       "      <th>24</th>\n",
       "      <td>15/02/2025</td>\n",
       "      <td>Comercial De-ct Os Sp</td>\n",
       "      <td>20.25</td>\n",
       "    </tr>\n",
       "    <tr>\n",
       "      <th>25</th>\n",
       "      <td>15/02/2025</td>\n",
       "      <td>Armazem Santa Filomena</td>\n",
       "      <td>334.16</td>\n",
       "    </tr>\n",
       "    <tr>\n",
       "      <th>26</th>\n",
       "      <td>17/02/2025</td>\n",
       "      <td>Pb*um Coffee Co</td>\n",
       "      <td>95.18</td>\n",
       "    </tr>\n",
       "    <tr>\n",
       "      <th>27</th>\n",
       "      <td>22/02/2025</td>\n",
       "      <td>Ifood  *ifd*pedro Tom</td>\n",
       "      <td>127.99</td>\n",
       "    </tr>\n",
       "    <tr>\n",
       "      <th>28</th>\n",
       "      <td>23/02/2025</td>\n",
       "      <td>Google Scribd Inc</td>\n",
       "      <td>27.99</td>\n",
       "    </tr>\n",
       "  </tbody>\n",
       "</table>\n",
       "</div>"
      ]
     },
     "execution_count": 22,
     "metadata": {},
     "output_type": "execute_result"
    }
   ],
   "execution_count": 22
  },
  {
   "cell_type": "markdown",
   "id": "a87b963a",
   "metadata": {},
   "source": [
    "# Limpeza dos dados"
   ]
  },
  {
   "cell_type": "markdown",
   "id": "43fb80ab",
   "metadata": {},
   "source": [
    "## Drop colunas"
   ]
  },
  {
   "cell_type": "code",
   "execution_count": 4,
   "id": "2ba1b97a",
   "metadata": {},
   "outputs": [
    {
     "data": {
      "text/html": [
       "<div>\n",
       "<style scoped>\n",
       "    .dataframe tbody tr th:only-of-type {\n",
       "        vertical-align: middle;\n",
       "    }\n",
       "\n",
       "    .dataframe tbody tr th {\n",
       "        vertical-align: top;\n",
       "    }\n",
       "\n",
       "    .dataframe thead th {\n",
       "        text-align: right;\n",
       "    }\n",
       "</style>\n",
       "<table border=\"1\" class=\"dataframe\">\n",
       "  <thead>\n",
       "    <tr style=\"text-align: right;\">\n",
       "      <th></th>\n",
       "      <th>Logotipo Itaú</th>\n",
       "      <th>Unnamed: 1</th>\n",
       "      <th>Unnamed: 3</th>\n",
       "    </tr>\n",
       "  </thead>\n",
       "  <tbody>\n",
       "    <tr>\n",
       "      <th>0</th>\n",
       "      <td>Atualização:</td>\n",
       "      <td>26/02/2025 às 11:27:00</td>\n",
       "      <td>NaN</td>\n",
       "    </tr>\n",
       "    <tr>\n",
       "      <th>1</th>\n",
       "      <td>Nome:</td>\n",
       "      <td>FELIPE BATISTA DE SOUZA</td>\n",
       "      <td>NaN</td>\n",
       "    </tr>\n",
       "    <tr>\n",
       "      <th>2</th>\n",
       "      <td>Agência:</td>\n",
       "      <td>6369</td>\n",
       "      <td>NaN</td>\n",
       "    </tr>\n",
       "    <tr>\n",
       "      <th>3</th>\n",
       "      <td>Conta:</td>\n",
       "      <td>28614-8</td>\n",
       "      <td>NaN</td>\n",
       "    </tr>\n",
       "    <tr>\n",
       "      <th>4</th>\n",
       "      <td>NaN</td>\n",
       "      <td>NaN</td>\n",
       "      <td>NaN</td>\n",
       "    </tr>\n",
       "  </tbody>\n",
       "</table>\n",
       "</div>"
      ],
      "text/plain": [
       "  Logotipo Itaú               Unnamed: 1 Unnamed: 3\n",
       "0  Atualização:   26/02/2025 às 11:27:00        NaN\n",
       "1         Nome:  FELIPE BATISTA DE SOUZA        NaN\n",
       "2      Agência:                     6369        NaN\n",
       "3        Conta:                  28614-8        NaN\n",
       "4           NaN                      NaN        NaN"
      ]
     },
     "execution_count": 4,
     "metadata": {},
     "output_type": "execute_result"
    }
   ],
   "source": [
    "df.drop(columns='Unnamed: 2', inplace=True)\n",
    "df.head()"
   ]
  },
  {
   "cell_type": "markdown",
   "id": "f6f9d4f3",
   "metadata": {},
   "source": [
    "## Renomeia colunas"
   ]
  },
  {
   "cell_type": "code",
   "execution_count": 5,
   "id": "8c6f3fde",
   "metadata": {},
   "outputs": [
    {
     "data": {
      "text/html": [
       "<div>\n",
       "<style scoped>\n",
       "    .dataframe tbody tr th:only-of-type {\n",
       "        vertical-align: middle;\n",
       "    }\n",
       "\n",
       "    .dataframe tbody tr th {\n",
       "        vertical-align: top;\n",
       "    }\n",
       "\n",
       "    .dataframe thead th {\n",
       "        text-align: right;\n",
       "    }\n",
       "</style>\n",
       "<table border=\"1\" class=\"dataframe\">\n",
       "  <thead>\n",
       "    <tr style=\"text-align: right;\">\n",
       "      <th></th>\n",
       "      <th>Data</th>\n",
       "      <th>NmGasto</th>\n",
       "      <th>Valor</th>\n",
       "    </tr>\n",
       "  </thead>\n",
       "  <tbody>\n",
       "    <tr>\n",
       "      <th>0</th>\n",
       "      <td>Atualização:</td>\n",
       "      <td>26/02/2025 às 11:27:00</td>\n",
       "      <td>NaN</td>\n",
       "    </tr>\n",
       "    <tr>\n",
       "      <th>1</th>\n",
       "      <td>Nome:</td>\n",
       "      <td>FELIPE BATISTA DE SOUZA</td>\n",
       "      <td>NaN</td>\n",
       "    </tr>\n",
       "    <tr>\n",
       "      <th>2</th>\n",
       "      <td>Agência:</td>\n",
       "      <td>6369</td>\n",
       "      <td>NaN</td>\n",
       "    </tr>\n",
       "    <tr>\n",
       "      <th>3</th>\n",
       "      <td>Conta:</td>\n",
       "      <td>28614-8</td>\n",
       "      <td>NaN</td>\n",
       "    </tr>\n",
       "    <tr>\n",
       "      <th>4</th>\n",
       "      <td>NaN</td>\n",
       "      <td>NaN</td>\n",
       "      <td>NaN</td>\n",
       "    </tr>\n",
       "  </tbody>\n",
       "</table>\n",
       "</div>"
      ],
      "text/plain": [
       "           Data                  NmGasto Valor\n",
       "0  Atualização:   26/02/2025 às 11:27:00   NaN\n",
       "1         Nome:  FELIPE BATISTA DE SOUZA   NaN\n",
       "2      Agência:                     6369   NaN\n",
       "3        Conta:                  28614-8   NaN\n",
       "4           NaN                      NaN   NaN"
      ]
     },
     "execution_count": 5,
     "metadata": {},
     "output_type": "execute_result"
    }
   ],
   "source": [
    "NomesColunas = {\n",
    "    0:'Data'\n",
    "    , 1: 'NmGasto'\n",
    "    , 2: 'Valor'\n",
    "}\n",
    "\n",
    "df.columns = [NomesColunas[i] if i in NomesColunas else df.columns[i] for i in range(len(df.columns))]\n",
    "df.head()\n"
   ]
  },
  {
   "cell_type": "markdown",
   "id": "d2ba28ec",
   "metadata": {},
   "source": [
    "## Retirando NaN"
   ]
  },
  {
   "cell_type": "code",
   "execution_count": 6,
   "id": "fd6e7aeb",
   "metadata": {},
   "outputs": [],
   "source": [
    "df_SemNulo = df[(~df['Valor'].isnull()) & (~df['Data'].isnull())].reset_index(drop=True)"
   ]
  },
  {
   "cell_type": "code",
   "execution_count": 7,
   "id": "f3800c7b",
   "metadata": {},
   "outputs": [
    {
     "data": {
      "text/html": [
       "<div>\n",
       "<style scoped>\n",
       "    .dataframe tbody tr th:only-of-type {\n",
       "        vertical-align: middle;\n",
       "    }\n",
       "\n",
       "    .dataframe tbody tr th {\n",
       "        vertical-align: top;\n",
       "    }\n",
       "\n",
       "    .dataframe thead th {\n",
       "        text-align: right;\n",
       "    }\n",
       "</style>\n",
       "<table border=\"1\" class=\"dataframe\">\n",
       "  <thead>\n",
       "    <tr style=\"text-align: right;\">\n",
       "      <th></th>\n",
       "      <th>Data</th>\n",
       "      <th>NmGasto</th>\n",
       "      <th>Valor</th>\n",
       "    </tr>\n",
       "  </thead>\n",
       "  <tbody>\n",
       "  </tbody>\n",
       "</table>\n",
       "</div>"
      ],
      "text/plain": [
       "Empty DataFrame\n",
       "Columns: [Data, NmGasto, Valor]\n",
       "Index: []"
      ]
     },
     "execution_count": 7,
     "metadata": {},
     "output_type": "execute_result"
    }
   ],
   "source": [
    "df_SemNulo[df_SemNulo['Valor'].isnull()]"
   ]
  },
  {
   "cell_type": "markdown",
   "id": "f11dfa96",
   "metadata": {},
   "source": [
    "## Selecionando os valores verdadeiros"
   ]
  },
  {
   "cell_type": "markdown",
   "id": "e8cb50d0",
   "metadata": {},
   "source": [
    "## Limpa data"
   ]
  },
  {
   "cell_type": "code",
   "execution_count": 13,
   "id": "9c78f0c1",
   "metadata": {},
   "outputs": [
    {
     "data": {
      "text/html": [
       "<div>\n",
       "<style scoped>\n",
       "    .dataframe tbody tr th:only-of-type {\n",
       "        vertical-align: middle;\n",
       "    }\n",
       "\n",
       "    .dataframe tbody tr th {\n",
       "        vertical-align: top;\n",
       "    }\n",
       "\n",
       "    .dataframe thead th {\n",
       "        text-align: right;\n",
       "    }\n",
       "</style>\n",
       "<table border=\"1\" class=\"dataframe\">\n",
       "  <thead>\n",
       "    <tr style=\"text-align: right;\">\n",
       "      <th></th>\n",
       "      <th>Data</th>\n",
       "      <th>NmGasto</th>\n",
       "      <th>Valor</th>\n",
       "    </tr>\n",
       "  </thead>\n",
       "  <tbody>\n",
       "    <tr>\n",
       "      <th>0</th>\n",
       "      <td>10/02/2025</td>\n",
       "      <td>Dm*udemy</td>\n",
       "      <td>24.9</td>\n",
       "    </tr>\n",
       "    <tr>\n",
       "      <th>1</th>\n",
       "      <td>01/02/2025</td>\n",
       "      <td>Google One</td>\n",
       "      <td>79.9</td>\n",
       "    </tr>\n",
       "    <tr>\n",
       "      <th>2</th>\n",
       "      <td>02/02/2025</td>\n",
       "      <td>Google Myworkoutplan</td>\n",
       "      <td>16.99</td>\n",
       "    </tr>\n",
       "    <tr>\n",
       "      <th>3</th>\n",
       "      <td>16/02/2025</td>\n",
       "      <td>Google 365scores Live</td>\n",
       "      <td>7.97</td>\n",
       "    </tr>\n",
       "    <tr>\n",
       "      <th>4</th>\n",
       "      <td>13/01/2025</td>\n",
       "      <td>Amazon Marketplace02/03</td>\n",
       "      <td>86.98</td>\n",
       "    </tr>\n",
       "  </tbody>\n",
       "</table>\n",
       "</div>"
      ],
      "text/plain": [
       "         Data                  NmGasto  Valor\n",
       "0  10/02/2025                 Dm*udemy   24.9\n",
       "1  01/02/2025               Google One   79.9\n",
       "2  02/02/2025     Google Myworkoutplan  16.99\n",
       "3  16/02/2025    Google 365scores Live   7.97\n",
       "4  13/01/2025  Amazon Marketplace02/03  86.98"
      ]
     },
     "execution_count": 13,
     "metadata": {},
     "output_type": "execute_result"
    }
   ],
   "source": [
    "# Expressão regular para encontrar datas no formato dd/mm/yyyy\n",
    "padrao_data = r\"^\\d{2}/\\d{2}/\\d{4}$\"\n",
    "\n",
    "# Filtrar linhas com datas no formato certo\n",
    "filtro = df_SemNulo[\"Data\"].astype(str).str.match(padrao_data)\n",
    "df_Union = df_SemNulo[filtro].reset_index(drop=True)\n",
    "\n",
    "df_Union.head()"
   ]
  },
  {
   "cell_type": "code",
   "execution_count": null,
   "id": "13d282e5",
   "metadata": {},
   "outputs": [
    {
     "data": {
      "text/html": [
       "<div>\n",
       "<style scoped>\n",
       "    .dataframe tbody tr th:only-of-type {\n",
       "        vertical-align: middle;\n",
       "    }\n",
       "\n",
       "    .dataframe tbody tr th {\n",
       "        vertical-align: top;\n",
       "    }\n",
       "\n",
       "    .dataframe thead th {\n",
       "        text-align: right;\n",
       "    }\n",
       "</style>\n",
       "<table border=\"1\" class=\"dataframe\">\n",
       "  <thead>\n",
       "    <tr style=\"text-align: right;\">\n",
       "      <th></th>\n",
       "      <th>Data</th>\n",
       "      <th>NmGasto</th>\n",
       "      <th>Valor</th>\n",
       "    </tr>\n",
       "  </thead>\n",
       "  <tbody>\n",
       "    <tr>\n",
       "      <th>0</th>\n",
       "      <td>10/02/2025</td>\n",
       "      <td>Dm*udemy</td>\n",
       "      <td>24.9</td>\n",
       "    </tr>\n",
       "    <tr>\n",
       "      <th>1</th>\n",
       "      <td>01/02/2025</td>\n",
       "      <td>Google One</td>\n",
       "      <td>79.9</td>\n",
       "    </tr>\n",
       "    <tr>\n",
       "      <th>2</th>\n",
       "      <td>02/02/2025</td>\n",
       "      <td>Google Myworkoutplan</td>\n",
       "      <td>16.99</td>\n",
       "    </tr>\n",
       "    <tr>\n",
       "      <th>3</th>\n",
       "      <td>16/02/2025</td>\n",
       "      <td>Google 365scores Live</td>\n",
       "      <td>7.97</td>\n",
       "    </tr>\n",
       "    <tr>\n",
       "      <th>4</th>\n",
       "      <td>total nacional do cartão - final 0887 (adicional)</td>\n",
       "      <td>NaN</td>\n",
       "      <td>104.86</td>\n",
       "    </tr>\n",
       "  </tbody>\n",
       "</table>\n",
       "</div>"
      ],
      "text/plain": [
       "                                                Data                NmGasto  \\\n",
       "0                                         10/02/2025               Dm*udemy   \n",
       "1                                         01/02/2025             Google One   \n",
       "2                                         02/02/2025   Google Myworkoutplan   \n",
       "3                                         16/02/2025  Google 365scores Live   \n",
       "4  total nacional do cartão - final 0887 (adicional)                    NaN   \n",
       "\n",
       "    Valor  \n",
       "0    24.9  \n",
       "1    79.9  \n",
       "2   16.99  \n",
       "3    7.97  \n",
       "4  104.86  "
      ]
     },
     "execution_count": 8,
     "metadata": {},
     "output_type": "execute_result"
    }
   ],
   "source": [
    "# valorAlvo = 'data'\n",
    "# colunaAlvo = \"Data\"\n",
    "# indice1 = df_SemNulo[df_SemNulo[\"Data\"] == valorAlvo].index[0]\n",
    "# indice2 = df_SemNulo[df_SemNulo[\"Data\"] == valorAlvo].index[1]\n",
    "\n",
    "\n",
    "# # Filtrar o DataFrame a partir dessa linha\n",
    "# df_data1 = df_SemNulo.iloc[indice1+1:indice2-1]\n",
    "# df_data2 = df_SemNulo.iloc[indice2+1:]\n",
    "\n",
    "# # Une os 2 dataframes\n",
    "# df_Union = pd.concat([df_data1, df_data2], ignore_index=True)\n",
    "# df_Union.head()\n"
   ]
  },
  {
   "cell_type": "markdown",
   "id": "aed58a15",
   "metadata": {},
   "source": [
    "## Retira total"
   ]
  },
  {
   "cell_type": "code",
   "execution_count": null,
   "id": "56926ba4",
   "metadata": {},
   "outputs": [
    {
     "ename": "IndexError",
     "evalue": "index 0 is out of bounds for axis 0 with size 0",
     "output_type": "error",
     "traceback": [
      "\u001B[1;31m---------------------------------------------------------------------------\u001B[0m",
      "\u001B[1;31mIndexError\u001B[0m                                Traceback (most recent call last)",
      "Cell \u001B[1;32mIn[14], line 1\u001B[0m\n\u001B[1;32m----> 1\u001B[0m NovoIndice \u001B[38;5;241m=\u001B[39m \u001B[43mdf_Union\u001B[49m\u001B[43m[\u001B[49m\u001B[43mdf_Union\u001B[49m\u001B[43m[\u001B[49m\u001B[43mcolunaAlvo\u001B[49m\u001B[43m]\u001B[49m\u001B[38;5;241;43m.\u001B[39;49m\u001B[43mstr\u001B[49m\u001B[38;5;241;43m.\u001B[39;49m\u001B[43mstartswith\u001B[49m\u001B[43m(\u001B[49m\u001B[38;5;124;43m'\u001B[39;49m\u001B[38;5;124;43mtotal nacional do cartão\u001B[39;49m\u001B[38;5;124;43m'\u001B[39;49m\u001B[43m)\u001B[49m\u001B[43m]\u001B[49m\u001B[38;5;241;43m.\u001B[39;49m\u001B[43mindex\u001B[49m\u001B[43m[\u001B[49m\u001B[38;5;241;43m0\u001B[39;49m\u001B[43m]\u001B[49m\n\u001B[0;32m      2\u001B[0m NovoIndice\n",
      "File \u001B[1;32mc:\\Users\\feh_s\\Streamlit-for-Data-Science\\my_env\\lib\\site-packages\\pandas\\core\\indexes\\base.py:5389\u001B[0m, in \u001B[0;36mIndex.__getitem__\u001B[1;34m(self, key)\u001B[0m\n\u001B[0;32m   5386\u001B[0m \u001B[38;5;28;01mif\u001B[39;00m is_integer(key) \u001B[38;5;129;01mor\u001B[39;00m is_float(key):\n\u001B[0;32m   5387\u001B[0m     \u001B[38;5;66;03m# GH#44051 exclude bool, which would return a 2d ndarray\u001B[39;00m\n\u001B[0;32m   5388\u001B[0m     key \u001B[38;5;241m=\u001B[39m com\u001B[38;5;241m.\u001B[39mcast_scalar_indexer(key)\n\u001B[1;32m-> 5389\u001B[0m     \u001B[38;5;28;01mreturn\u001B[39;00m \u001B[43mgetitem\u001B[49m\u001B[43m(\u001B[49m\u001B[43mkey\u001B[49m\u001B[43m)\u001B[49m\n\u001B[0;32m   5391\u001B[0m \u001B[38;5;28;01mif\u001B[39;00m \u001B[38;5;28misinstance\u001B[39m(key, \u001B[38;5;28mslice\u001B[39m):\n\u001B[0;32m   5392\u001B[0m     \u001B[38;5;66;03m# This case is separated from the conditional above to avoid\u001B[39;00m\n\u001B[0;32m   5393\u001B[0m     \u001B[38;5;66;03m# pessimization com.is_bool_indexer and ndim checks.\u001B[39;00m\n\u001B[0;32m   5394\u001B[0m     \u001B[38;5;28;01mreturn\u001B[39;00m \u001B[38;5;28mself\u001B[39m\u001B[38;5;241m.\u001B[39m_getitem_slice(key)\n",
      "\u001B[1;31mIndexError\u001B[0m: index 0 is out of bounds for axis 0 with size 0"
     ]
    }
   ],
   "source": [
    "# NovoIndice = df_Union[df_Union[colunaAlvo].str.startswith('total nacional do cartão')].index[0]\n",
    "# NovoIndice"
   ]
  },
  {
   "cell_type": "code",
   "execution_count": null,
   "id": "610709d1",
   "metadata": {},
   "outputs": [],
   "source": [
    "# df_STotal = df_Union.iloc[:NovoIndice]"
   ]
  },
  {
   "cell_type": "code",
   "execution_count": 15,
   "id": "def06a7c",
   "metadata": {},
   "outputs": [
    {
     "data": {
      "text/plain": [
       "3282.89"
      ]
     },
     "execution_count": 15,
     "metadata": {},
     "output_type": "execute_result"
    }
   ],
   "source": [
    "df_Union['Valor'].sum()"
   ]
  },
  {
   "metadata": {},
   "cell_type": "markdown",
   "source": "## Tirar número dos nomes",
   "id": "b470142fe17ee459"
  },
  {
   "metadata": {
    "ExecuteTime": {
     "end_time": "2025-07-09T15:10:22.222700Z",
     "start_time": "2025-07-09T15:10:22.212703Z"
    }
   },
   "cell_type": "code",
   "source": [
    "def limparNmGasto(col):\n",
    "    # Se terminar com caracteres não alfabéticos, remove-os do final\n",
    "    return re.sub(r'[^a-zA-ZÀ-ÿ\\s]+$', '', col)\n",
    "\n",
    "# Aplica a função à coluna\n",
    "df_limpo['NmGasto'] = df_limpo['NmGasto'].apply(limparNmGasto)\n"
   ],
   "id": "551d8e5661d5144a",
   "outputs": [],
   "execution_count": 12
  },
  {
   "metadata": {
    "ExecuteTime": {
     "end_time": "2025-07-09T15:15:32.020717Z",
     "start_time": "2025-07-09T15:15:32.010727Z"
    }
   },
   "cell_type": "code",
   "source": "df_limpo.loc[df_limpo['NmGasto'].str.contains('res')]",
   "id": "c1934ae4543d8f95",
   "outputs": [
    {
     "data": {
      "text/plain": [
       "          Data                NmGasto  Valor\n",
       "3   16/02/2025  Google 365scores Live   7.97\n",
       "10  01/02/2025         Mp *aliexpress  163.9\n",
       "12  04/02/2025     Msaquecedores         560"
      ],
      "text/html": [
       "<div>\n",
       "<style scoped>\n",
       "    .dataframe tbody tr th:only-of-type {\n",
       "        vertical-align: middle;\n",
       "    }\n",
       "\n",
       "    .dataframe tbody tr th {\n",
       "        vertical-align: top;\n",
       "    }\n",
       "\n",
       "    .dataframe thead th {\n",
       "        text-align: right;\n",
       "    }\n",
       "</style>\n",
       "<table border=\"1\" class=\"dataframe\">\n",
       "  <thead>\n",
       "    <tr style=\"text-align: right;\">\n",
       "      <th></th>\n",
       "      <th>Data</th>\n",
       "      <th>NmGasto</th>\n",
       "      <th>Valor</th>\n",
       "    </tr>\n",
       "  </thead>\n",
       "  <tbody>\n",
       "    <tr>\n",
       "      <th>3</th>\n",
       "      <td>16/02/2025</td>\n",
       "      <td>Google 365scores Live</td>\n",
       "      <td>7.97</td>\n",
       "    </tr>\n",
       "    <tr>\n",
       "      <th>10</th>\n",
       "      <td>01/02/2025</td>\n",
       "      <td>Mp *aliexpress</td>\n",
       "      <td>163.9</td>\n",
       "    </tr>\n",
       "    <tr>\n",
       "      <th>12</th>\n",
       "      <td>04/02/2025</td>\n",
       "      <td>Msaquecedores</td>\n",
       "      <td>560</td>\n",
       "    </tr>\n",
       "  </tbody>\n",
       "</table>\n",
       "</div>"
      ]
     },
     "execution_count": 19,
     "metadata": {},
     "output_type": "execute_result"
    }
   ],
   "execution_count": 19
  },
  {
   "cell_type": "markdown",
   "id": "5e4f546e",
   "metadata": {},
   "source": [
    "# Check base"
   ]
  },
  {
   "cell_type": "code",
   "execution_count": 12,
   "id": "1382ae3a",
   "metadata": {},
   "outputs": [
    {
     "name": "stdout",
     "output_type": "stream",
     "text": [
      "<class 'pandas.core.frame.DataFrame'>\n",
      "RangeIndex: 4 entries, 0 to 3\n",
      "Data columns (total 3 columns):\n",
      " #   Column   Non-Null Count  Dtype \n",
      "---  ------   --------------  ----- \n",
      " 0   Data     4 non-null      object\n",
      " 1   NmGasto  4 non-null      object\n",
      " 2   Valor    4 non-null      object\n",
      "dtypes: object(3)\n",
      "memory usage: 224.0+ bytes\n"
     ]
    }
   ],
   "source": [
    "df_STotal.info()"
   ]
  },
  {
   "cell_type": "code",
   "execution_count": 19,
   "id": "b892ee60",
   "metadata": {},
   "outputs": [
    {
     "data": {
      "text/html": [
       "<div>\n",
       "<style scoped>\n",
       "    .dataframe tbody tr th:only-of-type {\n",
       "        vertical-align: middle;\n",
       "    }\n",
       "\n",
       "    .dataframe tbody tr th {\n",
       "        vertical-align: top;\n",
       "    }\n",
       "\n",
       "    .dataframe thead th {\n",
       "        text-align: right;\n",
       "    }\n",
       "</style>\n",
       "<table border=\"1\" class=\"dataframe\">\n",
       "  <thead>\n",
       "    <tr style=\"text-align: right;\">\n",
       "      <th></th>\n",
       "      <th>Data</th>\n",
       "      <th>NmGasto</th>\n",
       "      <th>Valor</th>\n",
       "    </tr>\n",
       "  </thead>\n",
       "  <tbody>\n",
       "    <tr>\n",
       "      <th>count</th>\n",
       "      <td>33</td>\n",
       "      <td>33</td>\n",
       "      <td>33.0</td>\n",
       "    </tr>\n",
       "    <tr>\n",
       "      <th>unique</th>\n",
       "      <td>22</td>\n",
       "      <td>28</td>\n",
       "      <td>32.0</td>\n",
       "    </tr>\n",
       "    <tr>\n",
       "      <th>top</th>\n",
       "      <td>06/05/2025</td>\n",
       "      <td>99app       *99app</td>\n",
       "      <td>26.4</td>\n",
       "    </tr>\n",
       "    <tr>\n",
       "      <th>freq</th>\n",
       "      <td>4</td>\n",
       "      <td>5</td>\n",
       "      <td>2.0</td>\n",
       "    </tr>\n",
       "  </tbody>\n",
       "</table>\n",
       "</div>"
      ],
      "text/plain": [
       "              Data             NmGasto  Valor\n",
       "count           33                  33   33.0\n",
       "unique          22                  28   32.0\n",
       "top     06/05/2025  99app       *99app   26.4\n",
       "freq             4                   5    2.0"
      ]
     },
     "execution_count": 19,
     "metadata": {},
     "output_type": "execute_result"
    }
   ],
   "source": [
    "df_STotal.describe()"
   ]
  },
  {
   "cell_type": "code",
   "execution_count": 23,
   "id": "61cdd525",
   "metadata": {},
   "outputs": [
    {
     "data": {
      "text/plain": [
       "3122.34"
      ]
     },
     "execution_count": 23,
     "metadata": {},
     "output_type": "execute_result"
    }
   ],
   "source": [
    "df_STotal.Valor.sum()"
   ]
  }
 ],
 "metadata": {
  "kernelspec": {
   "display_name": "Streamlit-for-data-science",
   "language": "python",
   "name": "my_env"
  },
  "language_info": {
   "codemirror_mode": {
    "name": "ipython",
    "version": 3
   },
   "file_extension": ".py",
   "mimetype": "text/x-python",
   "name": "python",
   "nbconvert_exporter": "python",
   "pygments_lexer": "ipython3",
   "version": "3.10.9"
  }
 },
 "nbformat": 4,
 "nbformat_minor": 5
}
